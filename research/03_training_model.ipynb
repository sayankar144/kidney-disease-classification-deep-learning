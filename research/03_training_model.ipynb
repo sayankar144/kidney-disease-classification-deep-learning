{
 "cells": [
  {
   "cell_type": "code",
   "execution_count": 12,
   "id": "5f9bd913",
   "metadata": {},
   "outputs": [],
   "source": [
    "import os"
   ]
  },
  {
   "cell_type": "code",
   "execution_count": 13,
   "id": "3af0ee47",
   "metadata": {},
   "outputs": [
    {
     "data": {
      "text/plain": [
       "'c:\\\\Users\\\\sayan\\\\OneDrive\\\\Desktop\\\\kidney-disease-classification-deep-learning'"
      ]
     },
     "execution_count": 13,
     "metadata": {},
     "output_type": "execute_result"
    }
   ],
   "source": [
    "%pwd"
   ]
  },
  {
   "cell_type": "code",
   "execution_count": 23,
   "id": "411f744b",
   "metadata": {},
   "outputs": [],
   "source": [
    "os.chdir(r\"C:\\Users\\sayan\\OneDrive\\Desktop\\kidney-disease-classification-deep-learning\")"
   ]
  },
  {
   "cell_type": "code",
   "execution_count": 24,
   "id": "42a11010",
   "metadata": {},
   "outputs": [
    {
     "data": {
      "text/plain": [
       "'C:\\\\Users\\\\sayan\\\\OneDrive\\\\Desktop\\\\kidney-disease-classification-deep-learning'"
      ]
     },
     "execution_count": 24,
     "metadata": {},
     "output_type": "execute_result"
    }
   ],
   "source": [
    "%pwd"
   ]
  },
  {
   "cell_type": "code",
   "execution_count": 25,
   "id": "1c1dd20b",
   "metadata": {},
   "outputs": [],
   "source": [
    "from dataclasses import dataclass\n",
    "from pathlib import Path\n",
    "\n",
    "\n",
    "@dataclass(frozen=True)\n",
    "class TrainingConfig:\n",
    "    root_dir: Path\n",
    "    trained_model_path: Path\n",
    "    updated_base_model_path: Path\n",
    "    training_data: Path\n",
    "    params_epochs: int\n",
    "    params_batch_size: int\n",
    "    params_is_augmentation: bool\n",
    "    params_image_size: list"
   ]
  },
  {
   "cell_type": "code",
   "execution_count": 31,
   "id": "c20e396d",
   "metadata": {},
   "outputs": [
    {
     "name": "stdout",
     "output_type": "stream",
     "text": [
      "[2025-09-25 13:52:29,020: WARNING: module_wrapper: From C:\\Users\\sayan\\AppData\\Local\\Temp\\ipykernel_3272\\1854804430.py:6: The name tf.enable_eager_execution is deprecated. Please use tf.compat.v1.enable_eager_execution instead.\n",
      "]\n"
     ]
    }
   ],
   "source": [
    "from cnnClassifier.constants import *\n",
    "from cnnClassifier.utils.common import read_yaml, create_directories\n",
    "import tensorflow as tf\n",
    "# ✅ Ensure eager execution is enabled\n",
    "tf.config.run_functions_eagerly(True)\n",
    "tf.compat.v1.enable_eager_execution()"
   ]
  },
  {
   "cell_type": "code",
   "execution_count": 32,
   "id": "52667004",
   "metadata": {},
   "outputs": [],
   "source": [
    "class ConfigurationManager:\n",
    "    def __init__(\n",
    "        self,\n",
    "        config_filepath = CONFIG_FILE_PATH,\n",
    "        params_filepath = PARAMS_FILE_PATH):\n",
    "\n",
    "        self.config = read_yaml(config_filepath)\n",
    "        self.params = read_yaml(params_filepath)\n",
    "\n",
    "        create_directories([self.config.artifacts_root])\n",
    "\n",
    "\n",
    "    \n",
    "    def get_training_config(self) -> TrainingConfig:\n",
    "        training = self.config.training\n",
    "        prepare_base_model = self.config.prepare_base_model\n",
    "        params = self.params\n",
    "        training_data = os.path.join(self.config.data_ingestion.unzip_dir, \"kidney-ct-scan-image\")\n",
    "        create_directories([\n",
    "            Path(training.root_dir)\n",
    "        ])\n",
    "\n",
    "        training_config = TrainingConfig(\n",
    "            root_dir=Path(training.root_dir),\n",
    "            trained_model_path=Path(training.trained_model_path),\n",
    "            updated_base_model_path=Path(prepare_base_model.updated_base_model_path),\n",
    "            training_data=Path(training_data),\n",
    "            params_epochs=params.EPOCHS,\n",
    "            params_batch_size=params.BATCH_SIZE,\n",
    "            params_is_augmentation=params.AUGMENTATION,\n",
    "            params_image_size=params.IMAGE_SIZE\n",
    "        )\n",
    "\n",
    "        return training_config"
   ]
  },
  {
   "cell_type": "code",
   "execution_count": 33,
   "id": "7037a96c",
   "metadata": {},
   "outputs": [],
   "source": [
    "import os\n",
    "import urllib.request as request\n",
    "from zipfile import ZipFile\n",
    "import tensorflow as tf\n",
    "import time"
   ]
  },
  {
   "cell_type": "code",
   "execution_count": 37,
   "id": "f7c19211",
   "metadata": {},
   "outputs": [],
   "source": [
    "class Training:\n",
    "    def __init__(self, config: TrainingConfig):\n",
    "        self.config = config\n",
    "\n",
    "    def get_base_model(self):\n",
    "        \"\"\"\n",
    "        Load the saved model but avoid restoring the old optimizer state.\n",
    "        Then create a new optimizer instance and compile the model for further training.\n",
    "        \"\"\"\n",
    "        try:\n",
    "            # Attempt to load model (use str path). Do NOT restore old optimizer state -> compile=False\n",
    "            self.model = tf.keras.models.load_model(\n",
    "                str(self.config.updated_base_model_path),\n",
    "                compile=False\n",
    "            )\n",
    "        except TypeError as e:\n",
    "            # If we hit the InputLayer 'batch_shape' problem from earlier, use patched InputLayer\n",
    "            if \"Unrecognized keyword arguments: ['batch_shape']\" in str(e):\n",
    "                class PatchedInputLayer(tf.keras.layers.InputLayer):\n",
    "                    @classmethod\n",
    "                    def from_config(cls, config):\n",
    "                        if 'batch_shape' in config and 'batch_input_shape' not in config:\n",
    "                            config = dict(config)\n",
    "                            config['batch_input_shape'] = config.pop('batch_shape')\n",
    "                        return super().from_config(config)\n",
    "\n",
    "                self.model = tf.keras.models.load_model(\n",
    "                    str(self.config.updated_base_model_path),\n",
    "                    custom_objects={\"InputLayer\": PatchedInputLayer},\n",
    "                    compile=False\n",
    "                )\n",
    "            else:\n",
    "                raise\n",
    "\n",
    "        # Create a new optimizer instance (fresh, not reused)\n",
    "        new_optimizer = tf.keras.optimizers.Adam(learning_rate=1e-4)\n",
    "\n",
    "        # Decide loss depending on generator class_mode (default to categorical)\n",
    "        loss = \"categorical_crossentropy\"\n",
    "        try:\n",
    "            cm = getattr(self, \"train_generator\", None)\n",
    "            if cm is not None and getattr(cm, \"class_mode\", None) is not None:\n",
    "                cmode = cm.class_mode\n",
    "                if cmode == \"binary\":\n",
    "                    loss = \"binary_crossentropy\"\n",
    "                elif cmode == \"sparse\":\n",
    "                    loss = \"sparse_categorical_crossentropy\"\n",
    "                else:\n",
    "                    loss = \"categorical_crossentropy\"\n",
    "        except Exception:\n",
    "            loss = \"categorical_crossentropy\"\n",
    "\n",
    "        # Compile model with new optimizer and chosen loss\n",
    "        self.model.compile(optimizer=new_optimizer, loss=loss, metrics=[\"accuracy\"])\n",
    "\n",
    "        print(f\"Loaded model from {self.config.updated_base_model_path} and compiled with optimizer={type(new_optimizer).__name__}, loss={loss}\")\n",
    "\n",
    "    def train_valid_generator(self):\n",
    "        datagenerator_kwargs = dict(\n",
    "            rescale=1.0 / 255,\n",
    "            validation_split=0.20\n",
    "        )\n",
    "\n",
    "        dataflow_kwargs = dict(\n",
    "            target_size=self.config.params_image_size[:-1],\n",
    "            batch_size=self.config.params_batch_size,\n",
    "            interpolation=\"bilinear\"\n",
    "        )\n",
    "\n",
    "        valid_datagenerator = tf.keras.preprocessing.image.ImageDataGenerator(\n",
    "            **datagenerator_kwargs\n",
    "        )\n",
    "\n",
    "        self.valid_generator = valid_datagenerator.flow_from_directory(\n",
    "            directory=self.config.training_data,\n",
    "            subset=\"validation\",\n",
    "            shuffle=False,\n",
    "            **dataflow_kwargs\n",
    "        )\n",
    "\n",
    "        if self.config.params_is_augmentation:\n",
    "            train_datagenerator = tf.keras.preprocessing.image.ImageDataGenerator(\n",
    "                rotation_range=40,\n",
    "                horizontal_flip=True,\n",
    "                width_shift_range=0.2,\n",
    "                height_shift_range=0.2,\n",
    "                shear_range=0.2,\n",
    "                zoom_range=0.2,\n",
    "                **datagenerator_kwargs\n",
    "            )\n",
    "        else:\n",
    "            train_datagenerator = valid_datagenerator\n",
    "\n",
    "        self.train_generator = train_datagenerator.flow_from_directory(\n",
    "            directory=self.config.training_data,\n",
    "            subset=\"training\",\n",
    "            shuffle=True,\n",
    "            **dataflow_kwargs\n",
    "        )\n",
    "\n",
    "    @staticmethod\n",
    "    def save_model(path: Path, model: tf.keras.Model):\n",
    "        model.save(path)\n",
    "\n",
    "    def train(self):\n",
    "        self.steps_per_epoch = self.train_generator.samples // self.train_generator.batch_size\n",
    "        self.validation_steps = self.valid_generator.samples // self.valid_generator.batch_size\n",
    "\n",
    "        self.model.fit(\n",
    "            self.train_generator,\n",
    "            epochs=self.config.params_epochs,\n",
    "            steps_per_epoch=self.steps_per_epoch,\n",
    "            validation_steps=self.validation_steps,\n",
    "            validation_data=self.valid_generator\n",
    "        )\n",
    "\n",
    "        self.save_model(\n",
    "            path=self.config.trained_model_path,\n",
    "            model=self.model\n",
    "        )\n"
   ]
  },
  {
   "cell_type": "code",
   "execution_count": 38,
   "id": "0814c142",
   "metadata": {},
   "outputs": [
    {
     "name": "stdout",
     "output_type": "stream",
     "text": [
      "[2025-09-25 13:56:24,991: INFO: common: yaml file: config\\config.yaml loaded successfully]\n",
      "[2025-09-25 13:56:24,995: INFO: common: yaml file: params.yaml loaded successfully]\n",
      "[2025-09-25 13:56:24,997: INFO: common: created directory at: artifacts]\n",
      "[2025-09-25 13:56:24,998: INFO: common: created directory at: artifacts\\training]\n",
      "Loaded model from artifacts\\prepare_base_model\\base_model_updated.h5 and compiled with optimizer=Adam, loss=categorical_crossentropy\n",
      "Found 93 images belonging to 2 classes.\n",
      "Found 372 images belonging to 2 classes.\n",
      "\u001b[1m23/23\u001b[0m \u001b[32m━━━━━━━━━━━━━━━━━━━━\u001b[0m\u001b[37m\u001b[0m \u001b[1m111s\u001b[0m 5s/step - accuracy: 0.7191 - loss: 0.5886 - val_accuracy: 0.4375 - val_loss: 0.7526\n",
      "[2025-09-25 13:58:16,496: WARNING: saving_api: You are saving your model as an HDF5 file via `model.save()` or `keras.saving.save_model(model)`. This file format is considered legacy. We recommend using instead the native Keras format, e.g. `model.save('my_model.keras')` or `keras.saving.save_model(model, 'my_model.keras')`. ]\n"
     ]
    }
   ],
   "source": [
    "try:\n",
    "    config = ConfigurationManager()\n",
    "    training_config = config.get_training_config()\n",
    "    training = Training(config=training_config)\n",
    "    training.get_base_model()\n",
    "    training.train_valid_generator()\n",
    "    training.train()\n",
    "    \n",
    "except Exception as e:\n",
    "    raise e"
   ]
  },
  {
   "cell_type": "code",
   "execution_count": null,
   "id": "01232008",
   "metadata": {},
   "outputs": [],
   "source": []
  }
 ],
 "metadata": {
  "kernelspec": {
   "display_name": "cnn_cls",
   "language": "python",
   "name": "python3"
  },
  "language_info": {
   "codemirror_mode": {
    "name": "ipython",
    "version": 3
   },
   "file_extension": ".py",
   "mimetype": "text/x-python",
   "name": "python",
   "nbconvert_exporter": "python",
   "pygments_lexer": "ipython3",
   "version": "3.13.7"
  }
 },
 "nbformat": 4,
 "nbformat_minor": 5
}
